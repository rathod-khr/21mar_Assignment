{
 "cells": [
  {
   "cell_type": "markdown",
   "id": "171231de-bc06-4006-acdc-dd5f18453cda",
   "metadata": {},
   "source": [
    "**Q1. What is the difference between Ordinal Encoding and Label Encoding? Provide an example of when you\n",
    "might choose one over the other.**"
   ]
  },
  {
   "cell_type": "markdown",
   "id": "c73ab9e0-c1cf-42b1-9850-d73e57410c12",
   "metadata": {},
   "source": [
    "Ordinal encoding and label encoding are both techniques used for converting categorical variables into numerical representations. However, they differ in the way they handle the encoding process and the nature of the categorical data they are suited for.\n",
    "\n",
    "1. **Label Encoding**:\n",
    "   - Label encoding assigns a unique numerical label to each category in the categorical variable. The assignment of these labels is typically based on the alphabetical order or the order of appearance in the dataset.\n",
    "   - This encoding does not take into account any inherent order or hierarchy among the categories. It merely assigns numerical values to represent the categories.\n",
    "   - For example, consider a categorical variable \"Color\" with categories: Red, Green, Blue. Label encoding might assign labels: Red - 0, Green - 1, Blue - 2.\n",
    "\n",
    "2. **Ordinal Encoding**:\n",
    "   - Ordinal encoding is similar to label encoding but is specifically used when the categorical variable has an inherent order or hierarchy.\n",
    "   - In ordinal encoding, the categories are assigned numerical labels based on their order or rank.\n",
    "   - This encoding preserves the ordinal relationship between the categories, meaning that the numerical labels reflect the relative order or ranking of the categories.\n",
    "   - For example, consider a categorical variable \"Education Level\" with categories: High School, Bachelor's, Master's, PhD. Ordinal encoding might assign labels: High School - 0, Bachelor's - 1, Master's - 2, PhD - 3.\n",
    "\n",
    "**Example**:\n",
    "Suppose you have a dataset with a categorical variable representing education level, and the categories are \"High School,\" \"Bachelor's,\" \"Master's,\" and \"PhD.\" If you know that there is a natural order or hierarchy among these categories (i.e., \"PhD\" > \"Master's\" > \"Bachelor's\" > \"High School\"), you would use ordinal encoding to preserve this order.\n",
    "However, if you have another categorical variable representing different types of fruits, such as \"Apple,\" \"Banana,\" and \"Orange,\" where there is no inherent order among the categories, you would use label encoding because there's no meaningful ordinal relationship to preserve.\n",
    "\n"
   ]
  },
  {
   "cell_type": "markdown",
   "id": "923a27e0-ef62-4c7c-ac4b-3dc2b99e4a9e",
   "metadata": {},
   "source": [
    "**Q2. Explain how Target Guided Ordinal Encoding works and provide an example of when you might use it in\n",
    "a machine learning project.**"
   ]
  },
  {
   "cell_type": "markdown",
   "id": "aea6a4c8-79c6-4480-b4ee-01251d4ab8a9",
   "metadata": {},
   "source": [
    "\n",
    "Here's how Target Guided Ordinal Encoding works:\n",
    "1. **Calculate Mean/Median Target Value for Each Category**: For each category in the categorical variable, calculate the mean or median of the target variable. This means you group the data by each category and calculate the average or median value of the target variable within each group.\n",
    "\n",
    "2. **Assign Ranks to Categories Based on Mean/Median Values**: Sort the categories based on their mean or median target values in ascending or descending order. Then, assign ranks or ordinal labels to the categories accordingly. For example, if you're sorting in ascending order, the category with the lowest mean or median target value would be assigned the rank of 1, the next category with the next lowest mean or median value would be assigned rank 2, and so on.\n",
    "3. **Encode Categorical Variable**: Replace the original categorical variable with the assigned ranks or ordinal labels.\n",
    "an example scenario    \n",
    "Suppose you're working on a customer churn prediction project, where the goal is to predict whether a customer will churn or not. One of the features in your dataset is \"Customer Segment,\" which indicates the segment to which each customer belongs (e.g., \"Premium,\" \"Gold,\" \"Silver,\" \"Bronze\"). You suspect that this feature might have predictive power regarding customer churn.\n",
    "\n",
    "To utilize this feature effectively, you decide to use Target Guided Ordinal Encoding:\n",
    "\n",
    "1. Calculate the mean or median churn rate for each customer segment group.\n",
    "2. Assign ranks or ordinal labels to the segments based on their mean or median churn rates.\n",
    "3. Encode the \"Customer Segment\" variable with the assigned ranks or ordinal labels.\n"
   ]
  },
  {
   "cell_type": "markdown",
   "id": "2d2eede3-018a-4ca6-9ed8-3d738b143fa5",
   "metadata": {},
   "source": [
    "**Q3. Define covariance and explain why it is important in statistical analysis. How is covariance calculated?**"
   ]
  },
  {
   "cell_type": "markdown",
   "id": "a56e068c-10de-43a7-9c81-af0433a8ccb3",
   "metadata": {},
   "source": [
    "Covariance measures the relationship between two variables, indicating whether they tend to move in the same direction (positive covariance), move in opposite directions (negative covariance), or have no consistent relationship (zero covariance).\n",
    "\n",
    "Covariance is important in statistical analysis for several reasons:\n",
    "\n",
    "1. **Understanding Relationships**: Covariance provides insight into the relationship between two variables. A positive covariance indicates that as one variable increases, the other variable tends to increase as well, while a negative covariance indicates that as one variable increases, the other tends to decrease.\n",
    "\n",
    "2. **Predictive Power**: Covariance can be used to assess the predictive power of one variable on another. For example, if two variables have a high positive covariance, it suggests that changes in one variable can be used to predict changes in the other.\n",
    "\n",
    "3. **Portfolio Analysis**: In finance, covariance is crucial for portfolio analysis. It helps investors understand how the returns of different assets in a portfolio move together. Assets with low covariance can help diversify risk, while assets with high covariance may lead to increased risk.\n",
    "\n",
    "4. **Regression Analysis**: Covariance is also used in regression analysis to understand the relationship between independent and dependent variables. It helps determine the strength and direction of the relationship between variables.\n",
    "\n",
    "Covariance is calculated using the following formula:\n",
    "\n",
    "\\[ Cov(X, Y) = \\frac{\\sum_{i=1}^{n}(X_i - \\bar{X})(Y_i - \\bar{Y})}{n-1} \\]\n",
    "\n",
    "Where:\n",
    "- \\( X \\) and \\( Y \\) are the two random variables.\n",
    "- \\( X_i \\) and \\( Y_i \\) are individual observations of \\( X \\) and \\( Y \\).\n",
    "- \\( \\bar{X} \\) and \\( \\bar{Y} \\) are the means of \\( X \\) and \\( Y \\), respectively.\n",
    "- \\( n \\) is the number of observations.\n"
   ]
  },
  {
   "cell_type": "markdown",
   "id": "18355121-231b-4b0b-9393-1db0d24c9432",
   "metadata": {},
   "source": [
    "**Q4. For a dataset with the following categorical variables: Color (red, green, blue), Size (small, medium,\n",
    "large), and Material (wood, metal, plastic), perform label encoding using Python's scikit-learn library.\n",
    "Show your code and explain the output.**"
   ]
  },
  {
   "cell_type": "code",
   "execution_count": 2,
   "id": "00115d06-b646-46d6-a374-4f18d79dd3b0",
   "metadata": {},
   "outputs": [],
   "source": [
    "import pandas as pd\n",
    "import numpy as np"
   ]
  },
  {
   "cell_type": "code",
   "execution_count": 4,
   "id": "f7edc656-8943-4d54-9744-f5d1f8e955d9",
   "metadata": {},
   "outputs": [
    {
     "data": {
      "text/html": [
       "<div>\n",
       "<style scoped>\n",
       "    .dataframe tbody tr th:only-of-type {\n",
       "        vertical-align: middle;\n",
       "    }\n",
       "\n",
       "    .dataframe tbody tr th {\n",
       "        vertical-align: top;\n",
       "    }\n",
       "\n",
       "    .dataframe thead th {\n",
       "        text-align: right;\n",
       "    }\n",
       "</style>\n",
       "<table border=\"1\" class=\"dataframe\">\n",
       "  <thead>\n",
       "    <tr style=\"text-align: right;\">\n",
       "      <th></th>\n",
       "      <th>Color</th>\n",
       "      <th>Size</th>\n",
       "      <th>Material</th>\n",
       "    </tr>\n",
       "  </thead>\n",
       "  <tbody>\n",
       "    <tr>\n",
       "      <th>0</th>\n",
       "      <td>red</td>\n",
       "      <td>medium</td>\n",
       "      <td>wood</td>\n",
       "    </tr>\n",
       "    <tr>\n",
       "      <th>1</th>\n",
       "      <td>green</td>\n",
       "      <td>small</td>\n",
       "      <td>metal</td>\n",
       "    </tr>\n",
       "    <tr>\n",
       "      <th>2</th>\n",
       "      <td>blue</td>\n",
       "      <td>large</td>\n",
       "      <td>plastic</td>\n",
       "    </tr>\n",
       "    <tr>\n",
       "      <th>3</th>\n",
       "      <td>red</td>\n",
       "      <td>medium</td>\n",
       "      <td>wood</td>\n",
       "    </tr>\n",
       "    <tr>\n",
       "      <th>4</th>\n",
       "      <td>blue</td>\n",
       "      <td>small</td>\n",
       "      <td>metal</td>\n",
       "    </tr>\n",
       "  </tbody>\n",
       "</table>\n",
       "</div>"
      ],
      "text/plain": [
       "   Color    Size Material\n",
       "0    red  medium     wood\n",
       "1  green   small    metal\n",
       "2   blue   large  plastic\n",
       "3    red  medium     wood\n",
       "4   blue   small    metal"
      ]
     },
     "execution_count": 4,
     "metadata": {},
     "output_type": "execute_result"
    }
   ],
   "source": [
    "df=pd.DataFrame({\n",
    "    'Color': ['red', 'green', 'blue', 'red', 'blue'],\n",
    "    'Size': ['medium', 'small', 'large', 'medium', 'small'],\n",
    "    'Material': ['wood', 'metal', 'plastic', 'wood', 'metal']\n",
    "})\n",
    "\n",
    "df"
   ]
  },
  {
   "cell_type": "code",
   "execution_count": 5,
   "id": "34d6bd8d-f3f9-4ecf-bc76-42133db94f19",
   "metadata": {},
   "outputs": [],
   "source": [
    "from sklearn.preprocessing import LabelEncoder\n",
    "encoder=LabelEncoder()"
   ]
  },
  {
   "cell_type": "code",
   "execution_count": 21,
   "id": "ea4cbd12-029a-4df1-a0fc-cdc906deb19b",
   "metadata": {},
   "outputs": [
    {
     "name": "stderr",
     "output_type": "stream",
     "text": [
      "C:\\Users\\ratho\\AppData\\Local\\Programs\\Python\\Python311\\Lib\\site-packages\\sklearn\\preprocessing\\_label.py:114: DataConversionWarning: A column-vector y was passed when a 1d array was expected. Please change the shape of y to (n_samples, ), for example using ravel().\n",
      "  y = column_or_1d(y, warn=True)\n"
     ]
    },
    {
     "data": {
      "text/plain": [
       "array([1, 2, 0, 1, 2])"
      ]
     },
     "execution_count": 21,
     "metadata": {},
     "output_type": "execute_result"
    }
   ],
   "source": [
    "encoded=encoder.fit_transform(df[['Size']])\n",
    "encoded"
   ]
  },
  {
   "cell_type": "markdown",
   "id": "b9609f47-ad82-437f-94b8-9c5a3f678137",
   "metadata": {},
   "source": [
    "Explaination -here in case of Size Category, medium is labelled as 1, small is labelled as 2 and large is labelled as 0"
   ]
  },
  {
   "cell_type": "code",
   "execution_count": null,
   "id": "9a908e7d-f352-405c-8368-6da28136a0c3",
   "metadata": {},
   "outputs": [],
   "source": []
  },
  {
   "cell_type": "markdown",
   "id": "48e847e1-473b-41e8-aaf6-c587461836b3",
   "metadata": {},
   "source": [
    "**Q5. Calculate the covariance matrix for the following variables in a dataset: Age, Income, and Education\n",
    "level. Interpret the results.**"
   ]
  },
  {
   "cell_type": "code",
   "execution_count": 38,
   "id": "38a4cb17-53ab-4715-8047-1436ed0993a6",
   "metadata": {},
   "outputs": [
    {
     "data": {
      "text/html": [
       "<div>\n",
       "<style scoped>\n",
       "    .dataframe tbody tr th:only-of-type {\n",
       "        vertical-align: middle;\n",
       "    }\n",
       "\n",
       "    .dataframe tbody tr th {\n",
       "        vertical-align: top;\n",
       "    }\n",
       "\n",
       "    .dataframe thead th {\n",
       "        text-align: right;\n",
       "    }\n",
       "</style>\n",
       "<table border=\"1\" class=\"dataframe\">\n",
       "  <thead>\n",
       "    <tr style=\"text-align: right;\">\n",
       "      <th></th>\n",
       "      <th>age</th>\n",
       "      <th>income</th>\n",
       "      <th>education_level</th>\n",
       "    </tr>\n",
       "  </thead>\n",
       "  <tbody>\n",
       "    <tr>\n",
       "      <th>0</th>\n",
       "      <td>30</td>\n",
       "      <td>50000</td>\n",
       "      <td>12</td>\n",
       "    </tr>\n",
       "    <tr>\n",
       "      <th>1</th>\n",
       "      <td>40</td>\n",
       "      <td>60000</td>\n",
       "      <td>16</td>\n",
       "    </tr>\n",
       "    <tr>\n",
       "      <th>2</th>\n",
       "      <td>50</td>\n",
       "      <td>70000</td>\n",
       "      <td>18</td>\n",
       "    </tr>\n",
       "    <tr>\n",
       "      <th>3</th>\n",
       "      <td>35</td>\n",
       "      <td>55000</td>\n",
       "      <td>14</td>\n",
       "    </tr>\n",
       "    <tr>\n",
       "      <th>4</th>\n",
       "      <td>45</td>\n",
       "      <td>65000</td>\n",
       "      <td>20</td>\n",
       "    </tr>\n",
       "  </tbody>\n",
       "</table>\n",
       "</div>"
      ],
      "text/plain": [
       "   age  income  education_level\n",
       "0   30   50000               12\n",
       "1   40   60000               16\n",
       "2   50   70000               18\n",
       "3   35   55000               14\n",
       "4   45   65000               20"
      ]
     },
     "execution_count": 38,
     "metadata": {},
     "output_type": "execute_result"
    }
   ],
   "source": [
    "import pandas as pd\n",
    "import numpy as np\n",
    "\n",
    "df=pd.DataFrame({'age':[30, 40, 50, 35, 45], 'income':[50000, 60000, 70000, 55000, 65000],'education_level':[12, 16, 18, 14, 20]})\n",
    "df"
   ]
  },
  {
   "cell_type": "code",
   "execution_count": 39,
   "id": "32ff1421-61cc-44ae-9d11-bbd575af4c33",
   "metadata": {},
   "outputs": [
    {
     "data": {
      "text/html": [
       "<div>\n",
       "<style scoped>\n",
       "    .dataframe tbody tr th:only-of-type {\n",
       "        vertical-align: middle;\n",
       "    }\n",
       "\n",
       "    .dataframe tbody tr th {\n",
       "        vertical-align: top;\n",
       "    }\n",
       "\n",
       "    .dataframe thead th {\n",
       "        text-align: right;\n",
       "    }\n",
       "</style>\n",
       "<table border=\"1\" class=\"dataframe\">\n",
       "  <thead>\n",
       "    <tr style=\"text-align: right;\">\n",
       "      <th></th>\n",
       "      <th>age</th>\n",
       "      <th>income</th>\n",
       "      <th>education_level</th>\n",
       "    </tr>\n",
       "  </thead>\n",
       "  <tbody>\n",
       "    <tr>\n",
       "      <th>age</th>\n",
       "      <td>62.5</td>\n",
       "      <td>62500.0</td>\n",
       "      <td>22.5</td>\n",
       "    </tr>\n",
       "    <tr>\n",
       "      <th>income</th>\n",
       "      <td>62500.0</td>\n",
       "      <td>62500000.0</td>\n",
       "      <td>22500.0</td>\n",
       "    </tr>\n",
       "    <tr>\n",
       "      <th>education_level</th>\n",
       "      <td>22.5</td>\n",
       "      <td>22500.0</td>\n",
       "      <td>10.0</td>\n",
       "    </tr>\n",
       "  </tbody>\n",
       "</table>\n",
       "</div>"
      ],
      "text/plain": [
       "                     age      income  education_level\n",
       "age                 62.5     62500.0             22.5\n",
       "income           62500.0  62500000.0          22500.0\n",
       "education_level     22.5     22500.0             10.0"
      ]
     },
     "execution_count": 39,
     "metadata": {},
     "output_type": "execute_result"
    }
   ],
   "source": [
    "df.cov()"
   ]
  },
  {
   "cell_type": "code",
   "execution_count": 40,
   "id": "d924646c-6cc1-477c-becf-ed593c37608e",
   "metadata": {},
   "outputs": [
    {
     "data": {
      "text/html": [
       "<div>\n",
       "<style scoped>\n",
       "    .dataframe tbody tr th:only-of-type {\n",
       "        vertical-align: middle;\n",
       "    }\n",
       "\n",
       "    .dataframe tbody tr th {\n",
       "        vertical-align: top;\n",
       "    }\n",
       "\n",
       "    .dataframe thead th {\n",
       "        text-align: right;\n",
       "    }\n",
       "</style>\n",
       "<table border=\"1\" class=\"dataframe\">\n",
       "  <thead>\n",
       "    <tr style=\"text-align: right;\">\n",
       "      <th></th>\n",
       "      <th>0</th>\n",
       "      <th>1</th>\n",
       "      <th>2</th>\n",
       "      <th>3</th>\n",
       "      <th>4</th>\n",
       "    </tr>\n",
       "  </thead>\n",
       "  <tbody>\n",
       "    <tr>\n",
       "      <th>0</th>\n",
       "      <td>8.326336e+08</td>\n",
       "      <td>9.991136e+08</td>\n",
       "      <td>1.165610e+09</td>\n",
       "      <td>9.158736e+08</td>\n",
       "      <td>1.082337e+09</td>\n",
       "    </tr>\n",
       "    <tr>\n",
       "      <th>1</th>\n",
       "      <td>9.991136e+08</td>\n",
       "      <td>1.198880e+09</td>\n",
       "      <td>1.398667e+09</td>\n",
       "      <td>1.098997e+09</td>\n",
       "      <td>1.298744e+09</td>\n",
       "    </tr>\n",
       "    <tr>\n",
       "      <th>2</th>\n",
       "      <td>1.165610e+09</td>\n",
       "      <td>1.398667e+09</td>\n",
       "      <td>1.631747e+09</td>\n",
       "      <td>1.282139e+09</td>\n",
       "      <td>1.515172e+09</td>\n",
       "    </tr>\n",
       "    <tr>\n",
       "      <th>3</th>\n",
       "      <td>9.158736e+08</td>\n",
       "      <td>1.098997e+09</td>\n",
       "      <td>1.282139e+09</td>\n",
       "      <td>1.007435e+09</td>\n",
       "      <td>1.190540e+09</td>\n",
       "    </tr>\n",
       "    <tr>\n",
       "      <th>4</th>\n",
       "      <td>1.082337e+09</td>\n",
       "      <td>1.298744e+09</td>\n",
       "      <td>1.515172e+09</td>\n",
       "      <td>1.190540e+09</td>\n",
       "      <td>1.406926e+09</td>\n",
       "    </tr>\n",
       "  </tbody>\n",
       "</table>\n",
       "</div>"
      ],
      "text/plain": [
       "              0             1             2             3             4\n",
       "0  8.326336e+08  9.991136e+08  1.165610e+09  9.158736e+08  1.082337e+09\n",
       "1  9.991136e+08  1.198880e+09  1.398667e+09  1.098997e+09  1.298744e+09\n",
       "2  1.165610e+09  1.398667e+09  1.631747e+09  1.282139e+09  1.515172e+09\n",
       "3  9.158736e+08  1.098997e+09  1.282139e+09  1.007435e+09  1.190540e+09\n",
       "4  1.082337e+09  1.298744e+09  1.515172e+09  1.190540e+09  1.406926e+09"
      ]
     },
     "execution_count": 40,
     "metadata": {},
     "output_type": "execute_result"
    }
   ],
   "source": [
    "np.cov(df)\n",
    "pd.DataFrame(np.cov(df))"
   ]
  },
  {
   "cell_type": "markdown",
   "id": "763dab03-e63e-4352-a082-9f3c32667d57",
   "metadata": {},
   "source": [
    "**Q6. You are working on a machine learning project with a dataset containing several categorical\n",
    "variables, including \"Gender\" (Male/Female), \"Education Level\" (High School/Bachelor's/Master's/PhD),\n",
    "and \"Employment Status\" (Unemployed/Part-Time/Full-Time). Which encoding method would you use for\n",
    "each variable, and why?**"
   ]
  },
  {
   "cell_type": "markdown",
   "id": "0c6eb8de-38d7-4829-b8d8-767752d0b15e",
   "metadata": {},
   "source": [
    "1. **Gender (Binary Encoding)**:\n",
    "   - Since \"Gender\" has only two categories (Male/Female), binary encoding is a suitable choice.\n",
    "   - Binary encoding replaces each category with a binary representation (0 or 1).\n",
    "   - For example, \"Male\" can be encoded as 0, and \"Female\" can be encoded as 1.\n",
    "   - Binary encoding is efficient and preserves the ordinal relationship between categories.\n",
    "\n",
    "2. **Education Level (Ordinal Encoding)**:\n",
    "   - \"Education Level\" is an ordinal categorical variable with multiple categories (High School, Bachelor's, Master's, PhD).\n",
    "   - Ordinal encoding assigns a unique integer to each category based on their order.\n",
    "   - For example, \"High School\" might be encoded as 0, \"Bachelor's\" as 1, \"Master's\" as 2, and \"PhD\" as 3.\n",
    "   - Ordinal encoding preserves the ordinal relationship between categories but assumes an equal spacing between categories.\n",
    "\n",
    "3. **Employment Status (One-Hot Encoding)**:\n",
    "   - \"Employment Status\" is a nominal categorical variable with multiple categories (Unemployed, Part-Time, Full-Time).\n",
    "   - One-hot encoding creates binary dummy variables for each category.\n",
    "   - Each category gets its own binary feature, and the presence or absence of a category is indicated by 1 or 0, respectively.\n",
    "   - For example, \"Unemployed\" might be represented by [1, 0, 0], \"Part-Time\" by [0, 1, 0], and \"Full-Time\" by [0, 0, 1].\n",
    "   - One-hot encoding is suitable for nominal variables as it does not impose any ordinal relationship between categories and prevents the model from assuming an order where none exists."
   ]
  },
  {
   "cell_type": "markdown",
   "id": "269a120f-01a2-4036-bd87-ea194187b33e",
   "metadata": {},
   "source": [
    "**Q7. You are analyzing a dataset with two continuous variables, \"Temperature\" and \"Humidity\", and two\n",
    "categorical variables, \"Weather Condition\" (Sunny/Cloudy/Rainy) and \"Wind Direction\" (North/South/\n",
    "East/West). Calculate the covariance between each pair of variables and interpret the results.**"
   ]
  },
  {
   "cell_type": "code",
   "execution_count": 43,
   "id": "2a13fbca-c734-4424-9085-cab6f22d86a3",
   "metadata": {},
   "outputs": [
    {
     "data": {
      "text/html": [
       "<div>\n",
       "<style scoped>\n",
       "    .dataframe tbody tr th:only-of-type {\n",
       "        vertical-align: middle;\n",
       "    }\n",
       "\n",
       "    .dataframe tbody tr th {\n",
       "        vertical-align: top;\n",
       "    }\n",
       "\n",
       "    .dataframe thead th {\n",
       "        text-align: right;\n",
       "    }\n",
       "</style>\n",
       "<table border=\"1\" class=\"dataframe\">\n",
       "  <thead>\n",
       "    <tr style=\"text-align: right;\">\n",
       "      <th></th>\n",
       "      <th>Temperature</th>\n",
       "      <th>Humidity</th>\n",
       "      <th>weather_condition</th>\n",
       "      <th>wind_direction</th>\n",
       "    </tr>\n",
       "  </thead>\n",
       "  <tbody>\n",
       "    <tr>\n",
       "      <th>0</th>\n",
       "      <td>32</td>\n",
       "      <td>60</td>\n",
       "      <td>sunny</td>\n",
       "      <td>North</td>\n",
       "    </tr>\n",
       "    <tr>\n",
       "      <th>1</th>\n",
       "      <td>27</td>\n",
       "      <td>65</td>\n",
       "      <td>cloudy</td>\n",
       "      <td>South</td>\n",
       "    </tr>\n",
       "    <tr>\n",
       "      <th>2</th>\n",
       "      <td>22</td>\n",
       "      <td>55</td>\n",
       "      <td>rainy</td>\n",
       "      <td>north</td>\n",
       "    </tr>\n",
       "    <tr>\n",
       "      <th>3</th>\n",
       "      <td>24</td>\n",
       "      <td>58</td>\n",
       "      <td>rainy</td>\n",
       "      <td>East</td>\n",
       "    </tr>\n",
       "    <tr>\n",
       "      <th>4</th>\n",
       "      <td>26</td>\n",
       "      <td>63</td>\n",
       "      <td>cloudy</td>\n",
       "      <td>West</td>\n",
       "    </tr>\n",
       "  </tbody>\n",
       "</table>\n",
       "</div>"
      ],
      "text/plain": [
       "   Temperature  Humidity weather_condition wind_direction\n",
       "0           32        60             sunny          North\n",
       "1           27        65            cloudy          South\n",
       "2           22        55             rainy          north\n",
       "3           24        58             rainy           East\n",
       "4           26        63            cloudy           West"
      ]
     },
     "execution_count": 43,
     "metadata": {},
     "output_type": "execute_result"
    }
   ],
   "source": [
    "import pandas as pd\n",
    "import numpy as np\n",
    "\n",
    "#generatind DATA frame\n",
    "df=pd.DataFrame({'Temperature': [32, 27, 22, 24, 26],\n",
    "    'Humidity': [60, 65, 55, 58, 63], 'weather_condition':['sunny','cloudy','rainy', 'rainy', 'cloudy'],'wind_direction':['North','South','north','East','West'] })\n",
    "df"
   ]
  },
  {
   "cell_type": "code",
   "execution_count": 48,
   "id": "ae19bea3-4181-4a78-a01c-d4abd7e1384d",
   "metadata": {},
   "outputs": [
    {
     "data": {
      "text/plain": [
       "weather_condition\n",
       "cloudy    26.5\n",
       "rainy     23.0\n",
       "sunny     32.0\n",
       "Name: Temperature, dtype: float64"
      ]
     },
     "execution_count": 48,
     "metadata": {},
     "output_type": "execute_result"
    }
   ],
   "source": [
    "#using ordinal guided encoding as weather condition and wind direction are stronly related to humidity and temperature respectively\n",
    "#calculating mean\n",
    "encoded_Weather_mean=df.groupby('weather_condition')['Temperature'].mean()\n",
    "encoded_wind_mean=df.groupby('wind_direction')['Humidity'].mean()\n",
    "encoded_Weather_mean"
   ]
  },
  {
   "cell_type": "code",
   "execution_count": 49,
   "id": "1ec2e8cd-98b5-4bcf-9152-99e946d439ab",
   "metadata": {},
   "outputs": [
    {
     "data": {
      "text/plain": [
       "wind_direction\n",
       "East     58.0\n",
       "North    60.0\n",
       "South    65.0\n",
       "West     63.0\n",
       "north    55.0\n",
       "Name: Humidity, dtype: float64"
      ]
     },
     "execution_count": 49,
     "metadata": {},
     "output_type": "execute_result"
    }
   ],
   "source": [
    "encoded_wind_mean"
   ]
  },
  {
   "cell_type": "code",
   "execution_count": 55,
   "id": "758e888d-2faf-4bb3-b097-a43c030ff02a",
   "metadata": {},
   "outputs": [
    {
     "data": {
      "text/html": [
       "<div>\n",
       "<style scoped>\n",
       "    .dataframe tbody tr th:only-of-type {\n",
       "        vertical-align: middle;\n",
       "    }\n",
       "\n",
       "    .dataframe tbody tr th {\n",
       "        vertical-align: top;\n",
       "    }\n",
       "\n",
       "    .dataframe thead th {\n",
       "        text-align: right;\n",
       "    }\n",
       "</style>\n",
       "<table border=\"1\" class=\"dataframe\">\n",
       "  <thead>\n",
       "    <tr style=\"text-align: right;\">\n",
       "      <th></th>\n",
       "      <th>Temperature</th>\n",
       "      <th>Humidity</th>\n",
       "      <th>weather_condition</th>\n",
       "      <th>wind_direction</th>\n",
       "      <th>encoded_weather_condition</th>\n",
       "      <th>encoded_wind_condition</th>\n",
       "    </tr>\n",
       "  </thead>\n",
       "  <tbody>\n",
       "    <tr>\n",
       "      <th>0</th>\n",
       "      <td>32</td>\n",
       "      <td>60</td>\n",
       "      <td>sunny</td>\n",
       "      <td>North</td>\n",
       "      <td>32.0</td>\n",
       "      <td>60.0</td>\n",
       "    </tr>\n",
       "    <tr>\n",
       "      <th>1</th>\n",
       "      <td>27</td>\n",
       "      <td>65</td>\n",
       "      <td>cloudy</td>\n",
       "      <td>South</td>\n",
       "      <td>26.5</td>\n",
       "      <td>65.0</td>\n",
       "    </tr>\n",
       "    <tr>\n",
       "      <th>2</th>\n",
       "      <td>22</td>\n",
       "      <td>55</td>\n",
       "      <td>rainy</td>\n",
       "      <td>north</td>\n",
       "      <td>23.0</td>\n",
       "      <td>55.0</td>\n",
       "    </tr>\n",
       "    <tr>\n",
       "      <th>3</th>\n",
       "      <td>24</td>\n",
       "      <td>58</td>\n",
       "      <td>rainy</td>\n",
       "      <td>East</td>\n",
       "      <td>23.0</td>\n",
       "      <td>58.0</td>\n",
       "    </tr>\n",
       "    <tr>\n",
       "      <th>4</th>\n",
       "      <td>26</td>\n",
       "      <td>63</td>\n",
       "      <td>cloudy</td>\n",
       "      <td>West</td>\n",
       "      <td>26.5</td>\n",
       "      <td>63.0</td>\n",
       "    </tr>\n",
       "  </tbody>\n",
       "</table>\n",
       "</div>"
      ],
      "text/plain": [
       "   Temperature  Humidity weather_condition wind_direction  \\\n",
       "0           32        60             sunny          North   \n",
       "1           27        65            cloudy          South   \n",
       "2           22        55             rainy          north   \n",
       "3           24        58             rainy           East   \n",
       "4           26        63            cloudy           West   \n",
       "\n",
       "   encoded_weather_condition  encoded_wind_condition  \n",
       "0                       32.0                    60.0  \n",
       "1                       26.5                    65.0  \n",
       "2                       23.0                    55.0  \n",
       "3                       23.0                    58.0  \n",
       "4                       26.5                    63.0  "
      ]
     },
     "execution_count": 55,
     "metadata": {},
     "output_type": "execute_result"
    }
   ],
   "source": [
    "#mapping the weather condition and wind direction columns with encoded means\n",
    "df['encoded_weather_condition']=df['weather_condition'].map(encoded_Weather_mean)\n",
    "df['encoded_wind_condition']=df['wind_direction'].map(encoded_wind_mean)\n",
    "df"
   ]
  },
  {
   "cell_type": "code",
   "execution_count": 61,
   "id": "765bbf41-2ed8-4805-ad30-67602e32da4a",
   "metadata": {},
   "outputs": [
    {
     "data": {
      "text/html": [
       "<div>\n",
       "<style scoped>\n",
       "    .dataframe tbody tr th:only-of-type {\n",
       "        vertical-align: middle;\n",
       "    }\n",
       "\n",
       "    .dataframe tbody tr th {\n",
       "        vertical-align: top;\n",
       "    }\n",
       "\n",
       "    .dataframe thead th {\n",
       "        text-align: right;\n",
       "    }\n",
       "</style>\n",
       "<table border=\"1\" class=\"dataframe\">\n",
       "  <thead>\n",
       "    <tr style=\"text-align: right;\">\n",
       "      <th></th>\n",
       "      <th>Temperature</th>\n",
       "      <th>Humidity</th>\n",
       "      <th>encoded_weather_condition</th>\n",
       "      <th>encoded_wind_condition</th>\n",
       "    </tr>\n",
       "  </thead>\n",
       "  <tbody>\n",
       "    <tr>\n",
       "      <th>Temperature</th>\n",
       "      <td>14.200</td>\n",
       "      <td>7.2</td>\n",
       "      <td>13.575</td>\n",
       "      <td>7.2</td>\n",
       "    </tr>\n",
       "    <tr>\n",
       "      <th>Humidity</th>\n",
       "      <td>7.200</td>\n",
       "      <td>15.7</td>\n",
       "      <td>6.200</td>\n",
       "      <td>15.7</td>\n",
       "    </tr>\n",
       "    <tr>\n",
       "      <th>encoded_weather_condition</th>\n",
       "      <td>13.575</td>\n",
       "      <td>6.2</td>\n",
       "      <td>13.575</td>\n",
       "      <td>6.2</td>\n",
       "    </tr>\n",
       "    <tr>\n",
       "      <th>encoded_wind_condition</th>\n",
       "      <td>7.200</td>\n",
       "      <td>15.7</td>\n",
       "      <td>6.200</td>\n",
       "      <td>15.7</td>\n",
       "    </tr>\n",
       "  </tbody>\n",
       "</table>\n",
       "</div>"
      ],
      "text/plain": [
       "                           Temperature  Humidity  encoded_weather_condition  \\\n",
       "Temperature                     14.200       7.2                     13.575   \n",
       "Humidity                         7.200      15.7                      6.200   \n",
       "encoded_weather_condition       13.575       6.2                     13.575   \n",
       "encoded_wind_condition           7.200      15.7                      6.200   \n",
       "\n",
       "                           encoded_wind_condition  \n",
       "Temperature                                   7.2  \n",
       "Humidity                                     15.7  \n",
       "encoded_weather_condition                     6.2  \n",
       "encoded_wind_condition                       15.7  "
      ]
     },
     "execution_count": 61,
     "metadata": {},
     "output_type": "execute_result"
    }
   ],
   "source": [
    "#now calculating covariance matrix\n",
    "df[['Temperature','Humidity','encoded_weather_condition','encoded_wind_condition']].cov()"
   ]
  },
  {
   "cell_type": "code",
   "execution_count": 64,
   "id": "7dd4abdf-9fe7-4767-a8c6-6c26bc1cfffd",
   "metadata": {},
   "outputs": [
    {
     "data": {
      "text/plain": [
       "array([[261.33333333, 357.        , 303.33333333, 322.        ,\n",
       "        343.        ],\n",
       "       [357.        , 487.72916667, 414.29166667, 439.95833333,\n",
       "        468.52083333],\n",
       "       [303.33333333, 414.29166667, 352.25      , 373.58333333,\n",
       "        398.20833333],\n",
       "       [322.        , 439.95833333, 373.58333333, 396.91666667,\n",
       "        422.54166667],\n",
       "       [343.        , 468.52083333, 398.20833333, 422.54166667,\n",
       "        450.22916667]])"
      ]
     },
     "execution_count": 64,
     "metadata": {},
     "output_type": "execute_result"
    }
   ],
   "source": [
    "np.cov(df[['Temperature','Humidity','encoded_weather_condition','encoded_wind_condition']])"
   ]
  },
  {
   "cell_type": "code",
   "execution_count": null,
   "id": "5f9a1c34-b7e7-4805-a80b-fa0665e1ba97",
   "metadata": {},
   "outputs": [],
   "source": []
  },
  {
   "cell_type": "code",
   "execution_count": null,
   "id": "058229eb-0bc2-4185-af7e-1d96fdf2f1cf",
   "metadata": {},
   "outputs": [],
   "source": []
  },
  {
   "cell_type": "code",
   "execution_count": null,
   "id": "6acffd82-0f77-4662-b2e6-977c34a8b467",
   "metadata": {},
   "outputs": [],
   "source": []
  },
  {
   "cell_type": "code",
   "execution_count": null,
   "id": "43000b20-b76d-44e8-a3e6-789715d682f1",
   "metadata": {},
   "outputs": [],
   "source": []
  }
 ],
 "metadata": {
  "kernelspec": {
   "display_name": "Python 3 (ipykernel)",
   "language": "python",
   "name": "python3"
  },
  "language_info": {
   "codemirror_mode": {
    "name": "ipython",
    "version": 3
   },
   "file_extension": ".py",
   "mimetype": "text/x-python",
   "name": "python",
   "nbconvert_exporter": "python",
   "pygments_lexer": "ipython3",
   "version": "3.11.4"
  }
 },
 "nbformat": 4,
 "nbformat_minor": 5
}
